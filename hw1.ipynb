{
 "cells": [
  {
   "cell_type": "markdown",
   "metadata": {},
   "source": [
    "<div style=\"text-align: right\">Bob Forcha</div>\n",
    "<div style=\"text-align: right\">MAE 6226</div>\n",
    "<div style=\"text-align: right\">CFD</div>\n",
    "<div style=\"text-align: right\">Spring 2017</div>"
   ]
  },
  {
   "cell_type": "markdown",
   "metadata": {},
   "source": [
    "# Homework 1\n",
    "\n",
    "## Problem 1:\n",
    "\n",
    "Use Taylor series expansions to demonstrate the formal order of accuracy of:\n",
    "\n",
    "$$\\frac{\\delta\\phi_j}{\\delta x} = \\frac{-\\phi_{j+2} + 8\\phi_{j+1} - 8\\phi_{j-1} + \\phi_{j-2}}{12h}$$\n",
    "\n",
    "## Answer:\n",
    "\n",
    "$$\\phi_{j+2} = \\phi_j + {\\phi_j}'2h + \\frac{4h^2}{2!}{\\phi_j}'' + \\frac{8h^3}{3!}{\\phi_j}''' + \\frac{16h^4}{4!}{\\phi_j}'''' + o\\left(h^5\\right)$$\n",
    "\n",
    "$$\\phi_{j+1} = \\phi_j + {\\phi_j}'h + \\frac{h^2}{2!}{\\phi_j}'' + \\frac{h^3}{3!}{\\phi_j}''' + \\frac{h^4}{4!}{\\phi_j}'''' + o\\left(h^5\\right)$$\n",
    "\n",
    "$$\\phi_{j} = \\phi_j$$\n",
    "\n",
    "$$\\phi_{j-1} = \\phi_j - {\\phi_j}'h + \\frac{h^2}{2!}{\\phi_j}'' - \\frac{h^3}{3!}{\\phi_j}''' + \\frac{h^4}{4!}{\\phi_j}'''' + o\\left(h^5\\right)$$\n",
    "\n",
    "$$\\phi_{j-2} = \\phi_j - {\\phi_j}'2h + \\frac{4h^2}{2!}{\\phi_j}'' - \\frac{8h^3}{3!}{\\phi_j}''' + \\frac{16h^4}{4!}{\\phi_j}'''' + o\\left(h^5\\right)$$\n",
    "\n",
    "$$\\frac{\\delta\\phi}{\\delta x} = \\alpha\\phi_{j-2} + \\beta\\phi_{j-1} + \\gamma\\phi_j + \\eta\\phi_{j+1} + \\zeta\\phi_{j+2}$$\n",
    "\n",
    "$$= \\alpha\\left(\\phi_j - {\\phi_j}'2h + \\frac{4h^2}{2}{\\phi_j}'' - \\frac{8h^3}{6}{\\phi_j}''' + \\frac{16h^4}{24}{\\phi_j}''''\\right)$$\n",
    "\n",
    "$$+ \\beta\\left(\\phi_j - {\\phi_j}'h + \\frac{h^2}{2}{\\phi_j}'' - \\frac{h^3}{6}{\\phi_j}''' + \\frac{h^4}{24}{\\phi_j}''''\\right)$$\n",
    "\n",
    "$$+ \\gamma\\phi_j$$\n",
    "\n",
    "$$+ \\eta\\left(\\phi_j + {\\phi_j}'h + \\frac{h^2}{2}{\\phi_j}'' + \\frac{h^3}{6}{\\phi_j}''' + \\frac{h^4}{24}{\\phi_j}''''\\right)$$\n",
    "\n",
    "$$+ \\zeta\\left(\\phi_j + {\\phi_j}'2h + \\frac{4h^2}{2}{\\phi_j}'' + \\frac{8h^3}{3!}{\\phi_j}''' + \\frac{16h^4}{24}{\\phi_j}''''\\right)$$\n",
    "\n",
    "$$\\Rightarrow \\quad \\alpha + \\beta + \\gamma + \\eta + \\zeta = 0$$"
   ]
  },
  {
   "cell_type": "code",
   "execution_count": null,
   "metadata": {
    "collapsed": true
   },
   "outputs": [],
   "source": []
  }
 ],
 "metadata": {
  "kernelspec": {
   "display_name": "Python 3",
   "language": "python",
   "name": "python3"
  },
  "language_info": {
   "codemirror_mode": {
    "name": "ipython",
    "version": 3
   },
   "file_extension": ".py",
   "mimetype": "text/x-python",
   "name": "python",
   "nbconvert_exporter": "python",
   "pygments_lexer": "ipython3",
   "version": "3.6.0"
  }
 },
 "nbformat": 4,
 "nbformat_minor": 2
}
